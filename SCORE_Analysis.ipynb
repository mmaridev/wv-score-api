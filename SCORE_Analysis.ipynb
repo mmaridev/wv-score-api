{
 "cells": [
  {
   "cell_type": "code",
   "execution_count": 1,
   "metadata": {},
   "outputs": [
    {
     "data": {
      "text/html": [
       "\n",
       "    <div class=\"bk-root\">\n",
       "        <a href=\"https://bokeh.pydata.org\" target=\"_blank\" class=\"bk-logo bk-logo-small bk-logo-notebook\"></a>\n",
       "        <span id=\"1001\">Loading BokehJS ...</span>\n",
       "    </div>"
      ]
     },
     "metadata": {},
     "output_type": "display_data"
    },
    {
     "data": {
      "application/javascript": [
       "\n",
       "(function(root) {\n",
       "  function now() {\n",
       "    return new Date();\n",
       "  }\n",
       "\n",
       "  var force = true;\n",
       "\n",
       "  if (typeof root._bokeh_onload_callbacks === \"undefined\" || force === true) {\n",
       "    root._bokeh_onload_callbacks = [];\n",
       "    root._bokeh_is_loading = undefined;\n",
       "  }\n",
       "\n",
       "  var JS_MIME_TYPE = 'application/javascript';\n",
       "  var HTML_MIME_TYPE = 'text/html';\n",
       "  var EXEC_MIME_TYPE = 'application/vnd.bokehjs_exec.v0+json';\n",
       "  var CLASS_NAME = 'output_bokeh rendered_html';\n",
       "\n",
       "  /**\n",
       "   * Render data to the DOM node\n",
       "   */\n",
       "  function render(props, node) {\n",
       "    var script = document.createElement(\"script\");\n",
       "    node.appendChild(script);\n",
       "  }\n",
       "\n",
       "  /**\n",
       "   * Handle when an output is cleared or removed\n",
       "   */\n",
       "  function handleClearOutput(event, handle) {\n",
       "    var cell = handle.cell;\n",
       "\n",
       "    var id = cell.output_area._bokeh_element_id;\n",
       "    var server_id = cell.output_area._bokeh_server_id;\n",
       "    // Clean up Bokeh references\n",
       "    if (id != null && id in Bokeh.index) {\n",
       "      Bokeh.index[id].model.document.clear();\n",
       "      delete Bokeh.index[id];\n",
       "    }\n",
       "\n",
       "    if (server_id !== undefined) {\n",
       "      // Clean up Bokeh references\n",
       "      var cmd = \"from bokeh.io.state import curstate; print(curstate().uuid_to_server['\" + server_id + \"'].get_sessions()[0].document.roots[0]._id)\";\n",
       "      cell.notebook.kernel.execute(cmd, {\n",
       "        iopub: {\n",
       "          output: function(msg) {\n",
       "            var id = msg.content.text.trim();\n",
       "            if (id in Bokeh.index) {\n",
       "              Bokeh.index[id].model.document.clear();\n",
       "              delete Bokeh.index[id];\n",
       "            }\n",
       "          }\n",
       "        }\n",
       "      });\n",
       "      // Destroy server and session\n",
       "      var cmd = \"import bokeh.io.notebook as ion; ion.destroy_server('\" + server_id + \"')\";\n",
       "      cell.notebook.kernel.execute(cmd);\n",
       "    }\n",
       "  }\n",
       "\n",
       "  /**\n",
       "   * Handle when a new output is added\n",
       "   */\n",
       "  function handleAddOutput(event, handle) {\n",
       "    var output_area = handle.output_area;\n",
       "    var output = handle.output;\n",
       "\n",
       "    // limit handleAddOutput to display_data with EXEC_MIME_TYPE content only\n",
       "    if ((output.output_type != \"display_data\") || (!output.data.hasOwnProperty(EXEC_MIME_TYPE))) {\n",
       "      return\n",
       "    }\n",
       "\n",
       "    var toinsert = output_area.element.find(\".\" + CLASS_NAME.split(' ')[0]);\n",
       "\n",
       "    if (output.metadata[EXEC_MIME_TYPE][\"id\"] !== undefined) {\n",
       "      toinsert[toinsert.length - 1].firstChild.textContent = output.data[JS_MIME_TYPE];\n",
       "      // store reference to embed id on output_area\n",
       "      output_area._bokeh_element_id = output.metadata[EXEC_MIME_TYPE][\"id\"];\n",
       "    }\n",
       "    if (output.metadata[EXEC_MIME_TYPE][\"server_id\"] !== undefined) {\n",
       "      var bk_div = document.createElement(\"div\");\n",
       "      bk_div.innerHTML = output.data[HTML_MIME_TYPE];\n",
       "      var script_attrs = bk_div.children[0].attributes;\n",
       "      for (var i = 0; i < script_attrs.length; i++) {\n",
       "        toinsert[toinsert.length - 1].firstChild.setAttribute(script_attrs[i].name, script_attrs[i].value);\n",
       "      }\n",
       "      // store reference to server id on output_area\n",
       "      output_area._bokeh_server_id = output.metadata[EXEC_MIME_TYPE][\"server_id\"];\n",
       "    }\n",
       "  }\n",
       "\n",
       "  function register_renderer(events, OutputArea) {\n",
       "\n",
       "    function append_mime(data, metadata, element) {\n",
       "      // create a DOM node to render to\n",
       "      var toinsert = this.create_output_subarea(\n",
       "        metadata,\n",
       "        CLASS_NAME,\n",
       "        EXEC_MIME_TYPE\n",
       "      );\n",
       "      this.keyboard_manager.register_events(toinsert);\n",
       "      // Render to node\n",
       "      var props = {data: data, metadata: metadata[EXEC_MIME_TYPE]};\n",
       "      render(props, toinsert[toinsert.length - 1]);\n",
       "      element.append(toinsert);\n",
       "      return toinsert\n",
       "    }\n",
       "\n",
       "    /* Handle when an output is cleared or removed */\n",
       "    events.on('clear_output.CodeCell', handleClearOutput);\n",
       "    events.on('delete.Cell', handleClearOutput);\n",
       "\n",
       "    /* Handle when a new output is added */\n",
       "    events.on('output_added.OutputArea', handleAddOutput);\n",
       "\n",
       "    /**\n",
       "     * Register the mime type and append_mime function with output_area\n",
       "     */\n",
       "    OutputArea.prototype.register_mime_type(EXEC_MIME_TYPE, append_mime, {\n",
       "      /* Is output safe? */\n",
       "      safe: true,\n",
       "      /* Index of renderer in `output_area.display_order` */\n",
       "      index: 0\n",
       "    });\n",
       "  }\n",
       "\n",
       "  // register the mime type if in Jupyter Notebook environment and previously unregistered\n",
       "  if (root.Jupyter !== undefined) {\n",
       "    var events = require('base/js/events');\n",
       "    var OutputArea = require('notebook/js/outputarea').OutputArea;\n",
       "\n",
       "    if (OutputArea.prototype.mime_types().indexOf(EXEC_MIME_TYPE) == -1) {\n",
       "      register_renderer(events, OutputArea);\n",
       "    }\n",
       "  }\n",
       "\n",
       "  \n",
       "  if (typeof (root._bokeh_timeout) === \"undefined\" || force === true) {\n",
       "    root._bokeh_timeout = Date.now() + 5000;\n",
       "    root._bokeh_failed_load = false;\n",
       "  }\n",
       "\n",
       "  var NB_LOAD_WARNING = {'data': {'text/html':\n",
       "     \"<div style='background-color: #fdd'>\\n\"+\n",
       "     \"<p>\\n\"+\n",
       "     \"BokehJS does not appear to have successfully loaded. If loading BokehJS from CDN, this \\n\"+\n",
       "     \"may be due to a slow or bad network connection. Possible fixes:\\n\"+\n",
       "     \"</p>\\n\"+\n",
       "     \"<ul>\\n\"+\n",
       "     \"<li>re-rerun `output_notebook()` to attempt to load from CDN again, or</li>\\n\"+\n",
       "     \"<li>use INLINE resources instead, as so:</li>\\n\"+\n",
       "     \"</ul>\\n\"+\n",
       "     \"<code>\\n\"+\n",
       "     \"from bokeh.resources import INLINE\\n\"+\n",
       "     \"output_notebook(resources=INLINE)\\n\"+\n",
       "     \"</code>\\n\"+\n",
       "     \"</div>\"}};\n",
       "\n",
       "  function display_loaded() {\n",
       "    var el = document.getElementById(\"1001\");\n",
       "    if (el != null) {\n",
       "      el.textContent = \"BokehJS is loading...\";\n",
       "    }\n",
       "    if (root.Bokeh !== undefined) {\n",
       "      if (el != null) {\n",
       "        el.textContent = \"BokehJS \" + root.Bokeh.version + \" successfully loaded.\";\n",
       "      }\n",
       "    } else if (Date.now() < root._bokeh_timeout) {\n",
       "      setTimeout(display_loaded, 100)\n",
       "    }\n",
       "  }\n",
       "\n",
       "\n",
       "  function run_callbacks() {\n",
       "    try {\n",
       "      root._bokeh_onload_callbacks.forEach(function(callback) {\n",
       "        if (callback != null)\n",
       "          callback();\n",
       "      });\n",
       "    } finally {\n",
       "      delete root._bokeh_onload_callbacks\n",
       "    }\n",
       "    console.debug(\"Bokeh: all callbacks have finished\");\n",
       "  }\n",
       "\n",
       "  function load_libs(css_urls, js_urls, callback) {\n",
       "    if (css_urls == null) css_urls = [];\n",
       "    if (js_urls == null) js_urls = [];\n",
       "\n",
       "    root._bokeh_onload_callbacks.push(callback);\n",
       "    if (root._bokeh_is_loading > 0) {\n",
       "      console.debug(\"Bokeh: BokehJS is being loaded, scheduling callback at\", now());\n",
       "      return null;\n",
       "    }\n",
       "    if (js_urls == null || js_urls.length === 0) {\n",
       "      run_callbacks();\n",
       "      return null;\n",
       "    }\n",
       "    console.debug(\"Bokeh: BokehJS not loaded, scheduling load and callback at\", now());\n",
       "    root._bokeh_is_loading = css_urls.length + js_urls.length;\n",
       "\n",
       "    function on_load() {\n",
       "      root._bokeh_is_loading--;\n",
       "      if (root._bokeh_is_loading === 0) {\n",
       "        console.debug(\"Bokeh: all BokehJS libraries/stylesheets loaded\");\n",
       "        run_callbacks()\n",
       "      }\n",
       "    }\n",
       "\n",
       "    function on_error() {\n",
       "      console.error(\"failed to load \" + url);\n",
       "    }\n",
       "\n",
       "    for (var i = 0; i < css_urls.length; i++) {\n",
       "      var url = css_urls[i];\n",
       "      const element = document.createElement(\"link\");\n",
       "      element.onload = on_load;\n",
       "      element.onerror = on_error;\n",
       "      element.rel = \"stylesheet\";\n",
       "      element.type = \"text/css\";\n",
       "      element.href = url;\n",
       "      console.debug(\"Bokeh: injecting link tag for BokehJS stylesheet: \", url);\n",
       "      document.body.appendChild(element);\n",
       "    }\n",
       "\n",
       "    for (var i = 0; i < js_urls.length; i++) {\n",
       "      var url = js_urls[i];\n",
       "      var element = document.createElement('script');\n",
       "      element.onload = on_load;\n",
       "      element.onerror = on_error;\n",
       "      element.async = false;\n",
       "      element.src = url;\n",
       "      console.debug(\"Bokeh: injecting script tag for BokehJS library: \", url);\n",
       "      document.head.appendChild(element);\n",
       "    }\n",
       "  };var element = document.getElementById(\"1001\");\n",
       "  if (element == null) {\n",
       "    console.error(\"Bokeh: ERROR: autoload.js configured with elementid '1001' but no matching script tag was found. \")\n",
       "    return false;\n",
       "  }\n",
       "\n",
       "  function inject_raw_css(css) {\n",
       "    const element = document.createElement(\"style\");\n",
       "    element.appendChild(document.createTextNode(css));\n",
       "    document.body.appendChild(element);\n",
       "  }\n",
       "\n",
       "  var js_urls = [\"https://cdn.pydata.org/bokeh/release/bokeh-1.2.0.min.js\", \"https://cdn.pydata.org/bokeh/release/bokeh-widgets-1.2.0.min.js\", \"https://cdn.pydata.org/bokeh/release/bokeh-tables-1.2.0.min.js\", \"https://cdn.pydata.org/bokeh/release/bokeh-gl-1.2.0.min.js\"];\n",
       "  var css_urls = [\"https://cdn.pydata.org/bokeh/release/bokeh-1.2.0.min.css\", \"https://cdn.pydata.org/bokeh/release/bokeh-widgets-1.2.0.min.css\", \"https://cdn.pydata.org/bokeh/release/bokeh-tables-1.2.0.min.css\"];\n",
       "\n",
       "  var inline_js = [\n",
       "    function(Bokeh) {\n",
       "      Bokeh.set_log_level(\"info\");\n",
       "    },\n",
       "    \n",
       "    function(Bokeh) {\n",
       "      \n",
       "    },\n",
       "    function(Bokeh) {} // ensure no trailing comma for IE\n",
       "  ];\n",
       "\n",
       "  function run_inline_js() {\n",
       "    \n",
       "    if ((root.Bokeh !== undefined) || (force === true)) {\n",
       "      for (var i = 0; i < inline_js.length; i++) {\n",
       "        inline_js[i].call(root, root.Bokeh);\n",
       "      }if (force === true) {\n",
       "        display_loaded();\n",
       "      }} else if (Date.now() < root._bokeh_timeout) {\n",
       "      setTimeout(run_inline_js, 100);\n",
       "    } else if (!root._bokeh_failed_load) {\n",
       "      console.log(\"Bokeh: BokehJS failed to load within specified timeout.\");\n",
       "      root._bokeh_failed_load = true;\n",
       "    } else if (force !== true) {\n",
       "      var cell = $(document.getElementById(\"1001\")).parents('.cell').data().cell;\n",
       "      cell.output_area.append_execute_result(NB_LOAD_WARNING)\n",
       "    }\n",
       "\n",
       "  }\n",
       "\n",
       "  if (root._bokeh_is_loading === 0) {\n",
       "    console.debug(\"Bokeh: BokehJS loaded, going straight to plotting\");\n",
       "    run_inline_js();\n",
       "  } else {\n",
       "    load_libs(css_urls, js_urls, function() {\n",
       "      console.debug(\"Bokeh: BokehJS plotting callback run at\", now());\n",
       "      run_inline_js();\n",
       "    });\n",
       "  }\n",
       "}(window));"
      ],
      "application/vnd.bokehjs_load.v0+json": "\n(function(root) {\n  function now() {\n    return new Date();\n  }\n\n  var force = true;\n\n  if (typeof root._bokeh_onload_callbacks === \"undefined\" || force === true) {\n    root._bokeh_onload_callbacks = [];\n    root._bokeh_is_loading = undefined;\n  }\n\n  \n\n  \n  if (typeof (root._bokeh_timeout) === \"undefined\" || force === true) {\n    root._bokeh_timeout = Date.now() + 5000;\n    root._bokeh_failed_load = false;\n  }\n\n  var NB_LOAD_WARNING = {'data': {'text/html':\n     \"<div style='background-color: #fdd'>\\n\"+\n     \"<p>\\n\"+\n     \"BokehJS does not appear to have successfully loaded. If loading BokehJS from CDN, this \\n\"+\n     \"may be due to a slow or bad network connection. Possible fixes:\\n\"+\n     \"</p>\\n\"+\n     \"<ul>\\n\"+\n     \"<li>re-rerun `output_notebook()` to attempt to load from CDN again, or</li>\\n\"+\n     \"<li>use INLINE resources instead, as so:</li>\\n\"+\n     \"</ul>\\n\"+\n     \"<code>\\n\"+\n     \"from bokeh.resources import INLINE\\n\"+\n     \"output_notebook(resources=INLINE)\\n\"+\n     \"</code>\\n\"+\n     \"</div>\"}};\n\n  function display_loaded() {\n    var el = document.getElementById(\"1001\");\n    if (el != null) {\n      el.textContent = \"BokehJS is loading...\";\n    }\n    if (root.Bokeh !== undefined) {\n      if (el != null) {\n        el.textContent = \"BokehJS \" + root.Bokeh.version + \" successfully loaded.\";\n      }\n    } else if (Date.now() < root._bokeh_timeout) {\n      setTimeout(display_loaded, 100)\n    }\n  }\n\n\n  function run_callbacks() {\n    try {\n      root._bokeh_onload_callbacks.forEach(function(callback) {\n        if (callback != null)\n          callback();\n      });\n    } finally {\n      delete root._bokeh_onload_callbacks\n    }\n    console.debug(\"Bokeh: all callbacks have finished\");\n  }\n\n  function load_libs(css_urls, js_urls, callback) {\n    if (css_urls == null) css_urls = [];\n    if (js_urls == null) js_urls = [];\n\n    root._bokeh_onload_callbacks.push(callback);\n    if (root._bokeh_is_loading > 0) {\n      console.debug(\"Bokeh: BokehJS is being loaded, scheduling callback at\", now());\n      return null;\n    }\n    if (js_urls == null || js_urls.length === 0) {\n      run_callbacks();\n      return null;\n    }\n    console.debug(\"Bokeh: BokehJS not loaded, scheduling load and callback at\", now());\n    root._bokeh_is_loading = css_urls.length + js_urls.length;\n\n    function on_load() {\n      root._bokeh_is_loading--;\n      if (root._bokeh_is_loading === 0) {\n        console.debug(\"Bokeh: all BokehJS libraries/stylesheets loaded\");\n        run_callbacks()\n      }\n    }\n\n    function on_error() {\n      console.error(\"failed to load \" + url);\n    }\n\n    for (var i = 0; i < css_urls.length; i++) {\n      var url = css_urls[i];\n      const element = document.createElement(\"link\");\n      element.onload = on_load;\n      element.onerror = on_error;\n      element.rel = \"stylesheet\";\n      element.type = \"text/css\";\n      element.href = url;\n      console.debug(\"Bokeh: injecting link tag for BokehJS stylesheet: \", url);\n      document.body.appendChild(element);\n    }\n\n    for (var i = 0; i < js_urls.length; i++) {\n      var url = js_urls[i];\n      var element = document.createElement('script');\n      element.onload = on_load;\n      element.onerror = on_error;\n      element.async = false;\n      element.src = url;\n      console.debug(\"Bokeh: injecting script tag for BokehJS library: \", url);\n      document.head.appendChild(element);\n    }\n  };var element = document.getElementById(\"1001\");\n  if (element == null) {\n    console.error(\"Bokeh: ERROR: autoload.js configured with elementid '1001' but no matching script tag was found. \")\n    return false;\n  }\n\n  function inject_raw_css(css) {\n    const element = document.createElement(\"style\");\n    element.appendChild(document.createTextNode(css));\n    document.body.appendChild(element);\n  }\n\n  var js_urls = [\"https://cdn.pydata.org/bokeh/release/bokeh-1.2.0.min.js\", \"https://cdn.pydata.org/bokeh/release/bokeh-widgets-1.2.0.min.js\", \"https://cdn.pydata.org/bokeh/release/bokeh-tables-1.2.0.min.js\", \"https://cdn.pydata.org/bokeh/release/bokeh-gl-1.2.0.min.js\"];\n  var css_urls = [\"https://cdn.pydata.org/bokeh/release/bokeh-1.2.0.min.css\", \"https://cdn.pydata.org/bokeh/release/bokeh-widgets-1.2.0.min.css\", \"https://cdn.pydata.org/bokeh/release/bokeh-tables-1.2.0.min.css\"];\n\n  var inline_js = [\n    function(Bokeh) {\n      Bokeh.set_log_level(\"info\");\n    },\n    \n    function(Bokeh) {\n      \n    },\n    function(Bokeh) {} // ensure no trailing comma for IE\n  ];\n\n  function run_inline_js() {\n    \n    if ((root.Bokeh !== undefined) || (force === true)) {\n      for (var i = 0; i < inline_js.length; i++) {\n        inline_js[i].call(root, root.Bokeh);\n      }if (force === true) {\n        display_loaded();\n      }} else if (Date.now() < root._bokeh_timeout) {\n      setTimeout(run_inline_js, 100);\n    } else if (!root._bokeh_failed_load) {\n      console.log(\"Bokeh: BokehJS failed to load within specified timeout.\");\n      root._bokeh_failed_load = true;\n    } else if (force !== true) {\n      var cell = $(document.getElementById(\"1001\")).parents('.cell').data().cell;\n      cell.output_area.append_execute_result(NB_LOAD_WARNING)\n    }\n\n  }\n\n  if (root._bokeh_is_loading === 0) {\n    console.debug(\"Bokeh: BokehJS loaded, going straight to plotting\");\n    run_inline_js();\n  } else {\n    load_libs(css_urls, js_urls, function() {\n      console.debug(\"Bokeh: BokehJS plotting callback run at\", now());\n      run_inline_js();\n    });\n  }\n}(window));"
     },
     "metadata": {},
     "output_type": "display_data"
    }
   ],
   "source": [
    "import pandas as pd\n",
    "import numpy as np\n",
    "from sklearn import preprocessing\n",
    "from sklearn.model_selection import train_test_split\n",
    "from sklearn.preprocessing import MinMaxScaler\n",
    "from sklearn.decomposition import PCA\n",
    "from bokeh.io import output_notebook, show\n",
    "from bokeh.plotting import figure\n",
    "output_notebook()"
   ]
  },
  {
   "cell_type": "code",
   "execution_count": 2,
   "metadata": {},
   "outputs": [],
   "source": [
    "cols = [\n",
    "    \"age\", \"sex\", \"cholesterol\", \"max_press\", \"smokes\", \"score\"\n",
    "]"
   ]
  },
  {
   "cell_type": "code",
   "execution_count": 3,
   "metadata": {},
   "outputs": [],
   "source": [
    "path = \"/home/marco/git/webvalley/wv-score-api/train.csv\""
   ]
  },
  {
   "cell_type": "code",
   "execution_count": 4,
   "metadata": {},
   "outputs": [],
   "source": [
    "all_data = pd.read_csv(path, usecols=cols)"
   ]
  },
  {
   "cell_type": "code",
   "execution_count": 5,
   "metadata": {},
   "outputs": [
    {
     "data": {
      "text/html": [
       "<div>\n",
       "<style scoped>\n",
       "    .dataframe tbody tr th:only-of-type {\n",
       "        vertical-align: middle;\n",
       "    }\n",
       "\n",
       "    .dataframe tbody tr th {\n",
       "        vertical-align: top;\n",
       "    }\n",
       "\n",
       "    .dataframe thead th {\n",
       "        text-align: right;\n",
       "    }\n",
       "</style>\n",
       "<table border=\"1\" class=\"dataframe\">\n",
       "  <thead>\n",
       "    <tr style=\"text-align: right;\">\n",
       "      <th></th>\n",
       "      <th>age</th>\n",
       "      <th>sex</th>\n",
       "      <th>cholesterol</th>\n",
       "      <th>max_press</th>\n",
       "      <th>smokes</th>\n",
       "      <th>score</th>\n",
       "    </tr>\n",
       "  </thead>\n",
       "  <tbody>\n",
       "    <tr>\n",
       "      <th>0</th>\n",
       "      <td>50</td>\n",
       "      <td>M</td>\n",
       "      <td>6</td>\n",
       "      <td>120</td>\n",
       "      <td>True</td>\n",
       "      <td>1.74</td>\n",
       "    </tr>\n",
       "    <tr>\n",
       "      <th>1</th>\n",
       "      <td>90</td>\n",
       "      <td>M</td>\n",
       "      <td>5</td>\n",
       "      <td>165</td>\n",
       "      <td>True</td>\n",
       "      <td>62.50</td>\n",
       "    </tr>\n",
       "    <tr>\n",
       "      <th>2</th>\n",
       "      <td>47</td>\n",
       "      <td>F</td>\n",
       "      <td>9</td>\n",
       "      <td>150</td>\n",
       "      <td>False</td>\n",
       "      <td>0.48</td>\n",
       "    </tr>\n",
       "    <tr>\n",
       "      <th>3</th>\n",
       "      <td>83</td>\n",
       "      <td>M</td>\n",
       "      <td>10</td>\n",
       "      <td>147</td>\n",
       "      <td>False</td>\n",
       "      <td>36.08</td>\n",
       "    </tr>\n",
       "    <tr>\n",
       "      <th>4</th>\n",
       "      <td>68</td>\n",
       "      <td>M</td>\n",
       "      <td>9</td>\n",
       "      <td>166</td>\n",
       "      <td>True</td>\n",
       "      <td>32.76</td>\n",
       "    </tr>\n",
       "  </tbody>\n",
       "</table>\n",
       "</div>"
      ],
      "text/plain": [
       "   age sex  cholesterol  max_press  smokes  score\n",
       "0   50   M            6        120    True   1.74\n",
       "1   90   M            5        165    True  62.50\n",
       "2   47   F            9        150   False   0.48\n",
       "3   83   M           10        147   False  36.08\n",
       "4   68   M            9        166    True  32.76"
      ]
     },
     "execution_count": 5,
     "metadata": {},
     "output_type": "execute_result"
    }
   ],
   "source": [
    "all_data.head()"
   ]
  },
  {
   "cell_type": "code",
   "execution_count": 6,
   "metadata": {},
   "outputs": [
    {
     "data": {
      "text/plain": [
       "age              int64\n",
       "sex             object\n",
       "cholesterol      int64\n",
       "max_press        int64\n",
       "smokes            bool\n",
       "score          float64\n",
       "dtype: object"
      ]
     },
     "execution_count": 6,
     "metadata": {},
     "output_type": "execute_result"
    }
   ],
   "source": [
    "all_data.dtypes"
   ]
  },
  {
   "cell_type": "code",
   "execution_count": 7,
   "metadata": {},
   "outputs": [],
   "source": [
    "le = preprocessing.LabelEncoder()"
   ]
  },
  {
   "cell_type": "code",
   "execution_count": 8,
   "metadata": {},
   "outputs": [],
   "source": [
    "all_data[\"sex\"] = le.fit_transform(all_data[\"sex\"])\n",
    "all_data[\"smokes\"] = le.fit_transform(all_data[\"smokes\"])"
   ]
  },
  {
   "cell_type": "code",
   "execution_count": 9,
   "metadata": {},
   "outputs": [],
   "source": [
    "train_cols = cols[:-1]\n",
    "data = all_data[train_cols]\n",
    "target = all_data[\"score\"]"
   ]
  },
  {
   "cell_type": "code",
   "execution_count": 10,
   "metadata": {},
   "outputs": [],
   "source": [
    "x_tr, x_ts, y_tr, y_ts = train_test_split(data, target, test_size=0.30, random_state=10)"
   ]
  },
  {
   "cell_type": "code",
   "execution_count": 11,
   "metadata": {},
   "outputs": [],
   "source": [
    "pca = PCA()"
   ]
  },
  {
   "cell_type": "code",
   "execution_count": 12,
   "metadata": {},
   "outputs": [
    {
     "data": {
      "text/plain": [
       "(700, 5)"
      ]
     },
     "execution_count": 12,
     "metadata": {},
     "output_type": "execute_result"
    }
   ],
   "source": [
    "z_tr = pca.fit_transform(x_tr)\n",
    "pca.fit(x_tr)\n",
    "z_tr = pca.transform(x_tr)\n",
    "z_tr.shape"
   ]
  },
  {
   "cell_type": "code",
   "execution_count": 13,
   "metadata": {},
   "outputs": [
    {
     "name": "stdout",
     "output_type": "stream",
     "text": [
      "[7.40618624e-01 2.53310323e-01 5.64806421e-03 2.12579240e-04\n",
      " 2.10408685e-04]\n"
     ]
    }
   ],
   "source": [
    "print(pca.explained_variance_ratio_)"
   ]
  },
  {
   "cell_type": "code",
   "execution_count": 14,
   "metadata": {},
   "outputs": [],
   "source": [
    "medium_risk = np.logical_and(y_tr>=5, y_tr<=9)"
   ]
  },
  {
   "cell_type": "code",
   "execution_count": 15,
   "metadata": {},
   "outputs": [
    {
     "data": {
      "text/html": [
       "\n",
       "\n",
       "\n",
       "\n",
       "\n",
       "\n",
       "  <div class=\"bk-root\" id=\"ad5d3d6f-8540-4519-abf0-0063cf91e80e\" data-root-id=\"1002\"></div>\n"
      ]
     },
     "metadata": {},
     "output_type": "display_data"
    },
    {
     "data": {
      "application/javascript": [
       "(function(root) {\n",
       "  function embed_document(root) {\n",
       "    \n",
       "  var docs_json = {\"afafac2e-ae56-4237-afb5-d79269af46f2\":{\"roots\":{\"references\":[{\"attributes\":{\"below\":[{\"id\":\"1013\",\"type\":\"LinearAxis\"}],\"center\":[{\"id\":\"1017\",\"type\":\"Grid\"},{\"id\":\"1022\",\"type\":\"Grid\"}],\"left\":[{\"id\":\"1018\",\"type\":\"LinearAxis\"}],\"plot_height\":400,\"plot_width\":400,\"renderers\":[{\"id\":\"1039\",\"type\":\"GlyphRenderer\"},{\"id\":\"1044\",\"type\":\"GlyphRenderer\"},{\"id\":\"1049\",\"type\":\"GlyphRenderer\"}],\"title\":{\"id\":\"1003\",\"type\":\"Title\"},\"toolbar\":{\"id\":\"1029\",\"type\":\"Toolbar\"},\"x_range\":{\"id\":\"1005\",\"type\":\"DataRange1d\"},\"x_scale\":{\"id\":\"1009\",\"type\":\"LinearScale\"},\"y_range\":{\"id\":\"1007\",\"type\":\"DataRange1d\"},\"y_scale\":{\"id\":\"1011\",\"type\":\"LinearScale\"}},\"id\":\"1002\",\"subtype\":\"Figure\",\"type\":\"Plot\"},{\"attributes\":{\"axis_label\":\"PC1\",\"formatter\":{\"id\":\"1055\",\"type\":\"BasicTickFormatter\"},\"ticker\":{\"id\":\"1014\",\"type\":\"BasicTicker\"}},\"id\":\"1013\",\"type\":\"LinearAxis\"},{\"attributes\":{\"fill_alpha\":{\"value\":0.1},\"fill_color\":{\"value\":\"#1f77b4\"},\"line_alpha\":{\"value\":0.1},\"line_color\":{\"value\":\"#1f77b4\"},\"x\":{\"field\":\"x\"},\"y\":{\"field\":\"y\"}},\"id\":\"1043\",\"type\":\"Circle\"},{\"attributes\":{},\"id\":\"1014\",\"type\":\"BasicTicker\"},{\"attributes\":{\"data_source\":{\"id\":\"1041\",\"type\":\"ColumnDataSource\"},\"glyph\":{\"id\":\"1042\",\"type\":\"Circle\"},\"hover_glyph\":null,\"muted_glyph\":null,\"nonselection_glyph\":{\"id\":\"1043\",\"type\":\"Circle\"},\"selection_glyph\":null,\"view\":{\"id\":\"1045\",\"type\":\"CDSView\"}},\"id\":\"1044\",\"type\":\"GlyphRenderer\"},{\"attributes\":{\"callback\":null},\"id\":\"1005\",\"type\":\"DataRange1d\"},{\"attributes\":{\"source\":{\"id\":\"1041\",\"type\":\"ColumnDataSource\"}},\"id\":\"1045\",\"type\":\"CDSView\"},{\"attributes\":{\"ticker\":{\"id\":\"1014\",\"type\":\"BasicTicker\"}},\"id\":\"1017\",\"type\":\"Grid\"},{\"attributes\":{\"callback\":null,\"data\":{\"x\":{\"__ndarray__\":\"UdMTpCaRCkAIkt2HqmBAwEEWRUkMW0HAV3eBVij1RMCpQxBYeck9wG8hVsJ+QjpAvtNmo8loQcDC1aba2GUtwPfYfEF+PT5AWkN4aeqfR0BrZwqJfmtGwJLqd+wkaSvAjZ2UyWVdKEC2U1Z3wdA4wOY1VRtC6kDASDCd2m8YREAtYhbP/Y0pwC5CxamN9EXANg75eTuDQsAWAvc3gG9HwHCvBsbKJ0hA2sL916MnCkDzOsmKU2j+v8b2LMPbF0RAPkBoFjCUJkAwB83PTrI0wEEhujv51kfAme92eIt0LkCLfF+JvflFwOA304gC4DXAB/FLmL/JMMCOfiP2HK4wwOq2JIA4G0ZApy37k15MF8BF+VMPPTc8QCcgbs8uvzLALV1p5N67O8DjdSGdREAXwO15Q2A3qEZA1O+C5LdkRMBXkshwO9tCwJqWQmTdxDfAYkCOZJtXSMBu/sJhDj0xQOYLgsMapkNAhHX5RI+dRkBZp4O5x58vwISU2In0uDvAD0JecDTeMcBzg06AUrs/wNal58pd/EPATjhA6hOcQUD0AYJD1nhIwPIWsXBb50HA4b6sau7wRsB6meYAQ8YewNs1kEaGxyvAr+jPq5rRNcDlLwgvecU7wN2WqDPYvD/AlJ6q9i5oQsB91rO5cTc0QBW/IufNiRPAKL5Q2npfRsD3HP3HBF9DwIIUa1XXaiXAd1OdXTHfSMC3ALiTP3ErwC1gAR9r10HA2wbmGlElSUDs2DFslG8lwBbrd5+YgUPAd7Zxj6W4OMBEuHvmHmsqQPuSUMjSYQpAqcs4pepKOECDFhyU5cg/wJfT2JcdNBFAGnJ+BuyGJcAEel9hHnhAwOZBnTSQYUPAs2tXoOXXOsBX3zMiV20twPZYXkG8qCHAVqXEu7p2RsAwoJFiBV5IwIA4gWJIbSnArHYlfIqMJ8CHop3t2yNJQHPdf2coxMQ/X8cPKSzlQsC9GCxg30c9QAinGrR92TjAEeXP+hzVOMCtXFVJ8C40QMDcndxB/xRAD08JBMOcREAsnQsO5cs7wMOS5X2QFTlAC8A8KZ2iJkAP4596X6dFQFnGXDI9xiHAZ4DvOZodRkAzzggys99GwKMI+QPfyDHAmBauEFslKEBhIiy7nPdAwMCNqYn5WyhAbRNCaCmu/L+lZFgy4yfDP2uvdeq8OR1AC+kqNf1EM0CCQI4DNPpCwNbuOV/kD9A/l9UTPgrnR8CRWnHeU8U0wNhkUKaLJElAhtG8zJ+EQ8BWyJh33KclwPT4j8uoe0HA78gUPgI/M0A8oYYU1MMrwMXxjluztDfAalANXeJ5K8BnDH9HN3cmQJsGu2JESh1A74B1OkoEScB1aZYGU3hHwBwi+wslIUFA\",\"dtype\":\"float64\",\"shape\":[129]},\"y\":{\"__ndarray__\":\"nQhY6OquPkDN0ZUv6zA5QDQqRZcaODxAU6ooWEyjLECE8eWAIyY3QEJxOywgXDpAH7nk60Y4NUBKych09O88QGgOSyXDTThAXXxWP14QOUCiRSS2ZlwzQAAYsEpV7DxA1ZGaXbmONEB55tXbNRQ1QOatG1KxNDRAgifk4cMpNUDAcuUrzug3QFFZuH+8sSxAuwXaUIL/GEDmmTpmp2MxQJEuXhqtDD5Aya5FTwivOkDxpevl14ItQDuYa1rCKTVA3//QRSySPEA713LNfwU+QCm5O2nnZj9AljP8wuKDN0CRxdz6/7EmQGXs3yxxCTFAjLbbp073NkCj0HVeC/c+QKhzkrxHGzdAvBds9K7PNECDOoqh/FQ3QO/bjAdz/jlABoEh6tEeO0D/JV9Rpc80QBQl0PF/Fz5A7IwQk95NN0D6dkUw3kI8QJsgEuJ6EDhAVwOzP4xqPkCqWVOwpHw4QBR7IRMpLT1A07yLxZkXOEBJlvA0tPM0QCPowj3MHjxAEBezfRL7MEAHsTY8TS07QP6KcLgulSRAjDL0hrE7N0C27MSc/tUoQIfLsqvaOzZAfYdsphNgMEBBGO3qnNY9QP/a9GdW2S9A9u9jBGMJNUBWwa6s9B44QAJ7QlU/LTtAnZCs/34/NUBlW8fS1nE3QL55F41vmC9APecc7ilcOkAKpaz2hUY6QHwhPnOC4TxAW7tZhkBuOkD2/5eSTew7QJ6dsf2cOz5A7xO9n4YFPEAZMRBWjOE7QCn0pnJAHB1A5oDJ7foTPEAOdDFJHos2QDa6gQMJrzxAtjlGPUtjPEAd0qYgai03QCDykdBhqz1AqcQ1+5zhOEB3qsE8l2IoQKkyDiWYRjlAFhzkjW0bM0CHPTNl6+87QKuPOaB82jNAN5zOBP64KkCgB2Bdm2o7QB/u3rK26DtAevq2xz/lN0DSrBtMjAU7QK9LWlMSujNA8XulBP5CN0ANnt6KSFE7QH+/nvc0FDNAKEI7ey8UNECCENRl7XE0QDH0V/HjpzlA5o/6yBsmN0DouGjX9h42QDUhRyElwCpA1fATQx+SPkDPc/jUsR49QEKGXrRHtS9AaHuswkIbOEByDczXwl86QKld+czs+jZATuUFSfgdKUD9jWxXvWkqQB6imA/GjjRADu2PqSjBNkBNWDZXGboyQLH/F1GEoD1AlAxCJmJ1OkDg/wqntoYmQAW1oPjquTlAeecSwRRnNkAvrx2NqAU4QJH/xpWEBTxAb219m3ocFUD7XAavs+EzQKBK0A4icSRAFlu24Vd1OUBIHObMV9kvQAL8voVlED1AxJf0xWDsOkB9A1KUOJI4QIwQK+ONoD5AqLZDtCy7FUAwiSHfkMcoQGBQ/vpFPzpA\",\"dtype\":\"float64\",\"shape\":[129]}},\"selected\":{\"id\":\"1057\",\"type\":\"Selection\"},\"selection_policy\":{\"id\":\"1056\",\"type\":\"UnionRenderers\"}},\"id\":\"1036\",\"type\":\"ColumnDataSource\"},{\"attributes\":{\"axis_label\":\"PC2\",\"formatter\":{\"id\":\"1053\",\"type\":\"BasicTickFormatter\"},\"ticker\":{\"id\":\"1019\",\"type\":\"BasicTicker\"}},\"id\":\"1018\",\"type\":\"LinearAxis\"},{\"attributes\":{\"fill_color\":{\"value\":\"darkred\"},\"line_color\":{\"value\":\"darkred\"},\"x\":{\"field\":\"x\"},\"y\":{\"field\":\"y\"}},\"id\":\"1047\",\"type\":\"Circle\"},{\"attributes\":{},\"id\":\"1019\",\"type\":\"BasicTicker\"},{\"attributes\":{\"dimension\":1,\"ticker\":{\"id\":\"1019\",\"type\":\"BasicTicker\"}},\"id\":\"1022\",\"type\":\"Grid\"},{\"attributes\":{\"fill_alpha\":{\"value\":0.1},\"fill_color\":{\"value\":\"#1f77b4\"},\"line_alpha\":{\"value\":0.1},\"line_color\":{\"value\":\"#1f77b4\"},\"x\":{\"field\":\"x\"},\"y\":{\"field\":\"y\"}},\"id\":\"1048\",\"type\":\"Circle\"},{\"attributes\":{\"source\":{\"id\":\"1036\",\"type\":\"ColumnDataSource\"}},\"id\":\"1040\",\"type\":\"CDSView\"},{\"attributes\":{\"data_source\":{\"id\":\"1046\",\"type\":\"ColumnDataSource\"},\"glyph\":{\"id\":\"1047\",\"type\":\"Circle\"},\"hover_glyph\":null,\"muted_glyph\":null,\"nonselection_glyph\":{\"id\":\"1048\",\"type\":\"Circle\"},\"selection_glyph\":null,\"view\":{\"id\":\"1050\",\"type\":\"CDSView\"}},\"id\":\"1049\",\"type\":\"GlyphRenderer\"},{\"attributes\":{\"fill_alpha\":{\"value\":0.1},\"fill_color\":{\"value\":\"#1f77b4\"},\"line_alpha\":{\"value\":0.1},\"line_color\":{\"value\":\"#1f77b4\"},\"x\":{\"field\":\"x\"},\"y\":{\"field\":\"y\"}},\"id\":\"1038\",\"type\":\"Circle\"},{\"attributes\":{\"source\":{\"id\":\"1046\",\"type\":\"ColumnDataSource\"}},\"id\":\"1050\",\"type\":\"CDSView\"},{\"attributes\":{},\"id\":\"1023\",\"type\":\"PanTool\"},{\"attributes\":{},\"id\":\"1055\",\"type\":\"BasicTickFormatter\"},{\"attributes\":{},\"id\":\"1024\",\"type\":\"WheelZoomTool\"},{\"attributes\":{},\"id\":\"1056\",\"type\":\"UnionRenderers\"},{\"attributes\":{\"overlay\":{\"id\":\"1062\",\"type\":\"BoxAnnotation\"}},\"id\":\"1025\",\"type\":\"BoxZoomTool\"},{\"attributes\":{},\"id\":\"1053\",\"type\":\"BasicTickFormatter\"},{\"attributes\":{\"fill_color\":{\"value\":\"green\"},\"line_color\":{\"value\":\"green\"},\"x\":{\"field\":\"x\"},\"y\":{\"field\":\"y\"}},\"id\":\"1037\",\"type\":\"Circle\"},{\"attributes\":{\"callback\":null,\"data\":{\"x\":{\"__ndarray__\":\"sV5hKHzYPkAmZL7yJi5DwOU1pQvwgkRA3a93R2sCIEC+xZJk96FIwNmCpFxLqSNAHWk6txAFFEC7eBX8w/9CQInbj7/j7TVAH1Bj+c8TMMC6plhhVoFEQM6yL2V+FTPA+DxV7L1RPMCIPOPpHDo2wIdBE0iA+ERAuy61OnLlF8BWgMAF8ZhCwG0O4lt3Ofw/wTAcsh8FO8CdLP3+wH5GwLVCF0arWDXAyOrkUZmzR8DFtOaBTf9FQEncLs7RRjHAm1d44jb6QEBsu+MckHUmwEZOnBQr7iVAIirNIPEuN8BVFtr2TCJDwBs9sXrFv/0/gMJRmsrzO0Bq1BEkrgVBQBinMj4Ug0ZA7QOQwwUXR8AQXEKWY9wOQCaGVwPLVRnAiBPQ4u12Q0B/avXX36xDwKaAlOx6SzXAlldc0zCpRsCxQ9R5gv5AwH6HFwhEvkfACsAZzlKjKsB0BTHg1R8qwBSl7C+ekv8/SGDEqCOpSMDnJNcRMmQYwMCMecYhJ0PAdGw8mCGLRkCw/u82UzVDwJzTCTtw9RjA6V5UMyHeP0Dxh/JtsgVCwAFFGkEXLzLAK7pm5hxgEEDaQ4HEJpJGQK0mLxYHA0FAnRQ8Frc0M8AUopQqMiIgQNJl9ZiAKEbAsB5Sja1fH0CYphp1rBU7wPSU7+rqDzzA6hDUDj/RMEDdOl/VZhMwQBFER9o6ekdA6dHkx98ZQcCgI2Av2Tw9wGJ4m/Pxg0fAxiiewUbzBkDaDIby36z8P3bw743qCizAw8Ocl9GfRsA+Oll26YJFQAPtI9k0FUDA283XUWw1LMCK9ksbSrfyv4Dr0BGoJTXAHuPyhvs1LsABmaMd4HdAQA==\",\"dtype\":\"float64\",\"shape\":[80]},\"y\":{\"__ndarray__\":\"2xgu1A+pDcCUFMXZ6LsxwNnTWqnqTCJA87ts7+I6IUCUlj7O1yglwM09h/N+pRHA6tdWTp5QIUBQN3lHJcUcQM+2esFQWQNAA24nnTihB0DEqRb34EwgQO8jMJ8B8P8/fyjaNhrALcBx9K7nedcfwMTbzvWxFwlAGtf7+NGfI0Bk3jyxg/8WwI79of/HmCLAIPpzuxNvHEAEvuBHKrkiQBIETac8+TDATEXHhl6bNMDuq9Wfkm4cQN1lfkGYDyjA975rsCX/EEDUnjoAFjsgwJFJWLnQShZAwhNtsY/JE8Axu6HaMHglwGyz5UKjZALAe38vpN9VEUAWOSinMX8mQCa9GH0RMCJAgegj2cd9EsDsHUy5W54CwEAp/kRcLzDAUqNmqHhuAUByjnnCU7gwwH1UdRy08inAqYmRQHpFLcD0t25K1GkiQOWLDdY4mzrA/WeOtkcsLsAjBVn62EoPQBvgzWCpzBZAx2hUD6AoLcCRLXe5kQTqP4NvecMGeCvABD+AVssvLECt/U/6zLs1wFfaGKwWXyLAB6oI1sSM+78iCQPc6vAUQF1fjbiBERTAf682a25XLUBVfEgjyxcyQGXNhX9ofyJA4sca4QcDHMDitm5ErzopQLjP3NrLTC3AwJ50o4ERC8BM8JRFzt4AQNPkgOTOfRBAcv5skF4KFsB2fDg+BgErQDIETe7MQxBAaKgW6ZYqF8DlTu/EM7khwIoLY9t+jxlAWRW3dXsD9b9INzgKxDEdwGOkZnuJsxtAcfU+stRFI8BoQ7yQfT4iQM2wp1qujw7AIGrLMT2h7T9QHa3u0AYRwPfZMfwkmv+/22Ru5tAU7j+FNA0ZuxsKQA==\",\"dtype\":\"float64\",\"shape\":[80]}},\"selected\":{\"id\":\"1059\",\"type\":\"Selection\"},\"selection_policy\":{\"id\":\"1058\",\"type\":\"UnionRenderers\"}},\"id\":\"1041\",\"type\":\"ColumnDataSource\"},{\"attributes\":{},\"id\":\"1026\",\"type\":\"SaveTool\"},{\"attributes\":{},\"id\":\"1057\",\"type\":\"Selection\"},{\"attributes\":{},\"id\":\"1058\",\"type\":\"UnionRenderers\"},{\"attributes\":{},\"id\":\"1027\",\"type\":\"ResetTool\"},{\"attributes\":{\"data_source\":{\"id\":\"1036\",\"type\":\"ColumnDataSource\"},\"glyph\":{\"id\":\"1037\",\"type\":\"Circle\"},\"hover_glyph\":null,\"muted_glyph\":null,\"nonselection_glyph\":{\"id\":\"1038\",\"type\":\"Circle\"},\"selection_glyph\":null,\"view\":{\"id\":\"1040\",\"type\":\"CDSView\"}},\"id\":\"1039\",\"type\":\"GlyphRenderer\"},{\"attributes\":{\"text\":\"PCA of Train data\"},\"id\":\"1003\",\"type\":\"Title\"},{\"attributes\":{},\"id\":\"1028\",\"type\":\"HelpTool\"},{\"attributes\":{},\"id\":\"1059\",\"type\":\"Selection\"},{\"attributes\":{},\"id\":\"1060\",\"type\":\"UnionRenderers\"},{\"attributes\":{\"active_drag\":\"auto\",\"active_inspect\":\"auto\",\"active_multi\":null,\"active_scroll\":\"auto\",\"active_tap\":\"auto\",\"tools\":[{\"id\":\"1023\",\"type\":\"PanTool\"},{\"id\":\"1024\",\"type\":\"WheelZoomTool\"},{\"id\":\"1025\",\"type\":\"BoxZoomTool\"},{\"id\":\"1026\",\"type\":\"SaveTool\"},{\"id\":\"1027\",\"type\":\"ResetTool\"},{\"id\":\"1028\",\"type\":\"HelpTool\"}]},\"id\":\"1029\",\"type\":\"Toolbar\"},{\"attributes\":{\"callback\":null},\"id\":\"1007\",\"type\":\"DataRange1d\"},{\"attributes\":{},\"id\":\"1061\",\"type\":\"Selection\"},{\"attributes\":{},\"id\":\"1009\",\"type\":\"LinearScale\"},{\"attributes\":{\"callback\":null,\"data\":{\"x\":{\"__ndarray__\":\"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\",\"dtype\":\"float64\",\"shape\":[240]},\"y\":{\"__ndarray__\":\"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\",\"dtype\":\"float64\",\"shape\":[240]}},\"selected\":{\"id\":\"1061\",\"type\":\"Selection\"},\"selection_policy\":{\"id\":\"1060\",\"type\":\"UnionRenderers\"}},\"id\":\"1046\",\"type\":\"ColumnDataSource\"},{\"attributes\":{\"bottom_units\":\"screen\",\"fill_alpha\":{\"value\":0.5},\"fill_color\":{\"value\":\"lightgrey\"},\"left_units\":\"screen\",\"level\":\"overlay\",\"line_alpha\":{\"value\":1.0},\"line_color\":{\"value\":\"black\"},\"line_dash\":[4,4],\"line_width\":{\"value\":2},\"render_mode\":\"css\",\"right_units\":\"screen\",\"top_units\":\"screen\"},\"id\":\"1062\",\"type\":\"BoxAnnotation\"},{\"attributes\":{},\"id\":\"1011\",\"type\":\"LinearScale\"},{\"attributes\":{\"fill_color\":{\"value\":\"orange\"},\"line_color\":{\"value\":\"orange\"},\"x\":{\"field\":\"x\"},\"y\":{\"field\":\"y\"}},\"id\":\"1042\",\"type\":\"Circle\"}],\"root_ids\":[\"1002\"]},\"title\":\"Bokeh Application\",\"version\":\"1.2.0\"}};\n",
       "  var render_items = [{\"docid\":\"afafac2e-ae56-4237-afb5-d79269af46f2\",\"roots\":{\"1002\":\"ad5d3d6f-8540-4519-abf0-0063cf91e80e\"}}];\n",
       "  root.Bokeh.embed.embed_items_notebook(docs_json, render_items);\n",
       "\n",
       "  }\n",
       "  if (root.Bokeh !== undefined) {\n",
       "    embed_document(root);\n",
       "  } else {\n",
       "    var attempts = 0;\n",
       "    var timer = setInterval(function(root) {\n",
       "      if (root.Bokeh !== undefined) {\n",
       "        embed_document(root);\n",
       "        clearInterval(timer);\n",
       "      }\n",
       "      attempts++;\n",
       "      if (attempts > 100) {\n",
       "        console.log(\"Bokeh: ERROR: Unable to run BokehJS code because BokehJS library is missing\");\n",
       "        clearInterval(timer);\n",
       "      }\n",
       "    }, 10, root)\n",
       "  }\n",
       "})(window);"
      ],
      "application/vnd.bokehjs_exec.v0+json": ""
     },
     "metadata": {
      "application/vnd.bokehjs_exec.v0+json": {
       "id": "1002"
      }
     },
     "output_type": "display_data"
    }
   ],
   "source": [
    "p = figure(plot_width=400, plot_height=400, title=\"PCA of Train data\")\n",
    "p.circle(z_tr[y_tr<=1, 0], z_tr[y_tr<=1, 1], line_color=\"green\", fill_color=\"green\")\n",
    "\n",
    "p.circle(z_tr[medium_risk, 0], z_tr[medium_risk, 1], line_color=\"orange\", fill_color=\"orange\")\n",
    "\n",
    "p.circle(z_tr[y_tr>=15, 0], z_tr[y_tr>=15, 1], line_color=\"darkred\", fill_color=\"darkred\")\n",
    "p.xaxis.axis_label = \"PC1\"\n",
    "p.yaxis.axis_label = \"PC2\"\n",
    "show(p)"
   ]
  }
 ],
 "metadata": {
  "kernelspec": {
   "display_name": "Python 3",
   "language": "python",
   "name": "python3"
  },
  "language_info": {
   "codemirror_mode": {
    "name": "ipython",
    "version": 3
   },
   "file_extension": ".py",
   "mimetype": "text/x-python",
   "name": "python",
   "nbconvert_exporter": "python",
   "pygments_lexer": "ipython3",
   "version": "3.7.3"
  }
 },
 "nbformat": 4,
 "nbformat_minor": 2
}
